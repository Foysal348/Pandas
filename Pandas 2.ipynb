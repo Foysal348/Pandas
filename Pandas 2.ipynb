{
 "cells": [
  {
   "cell_type": "markdown",
   "id": "b1f6679d-412e-468b-a564-0cc4be0008af",
   "metadata": {},
   "source": [
    "What is Pandas?\n",
    "\n",
    "Pandas is a Python library for data manipulation and analysis.\n",
    "It provides two main data structures:\n",
    "\n",
    "Series → 1D labeled array (like one column)\n",
    "\n",
    "DataFrame → 2D labeled table (like an Excel sheet)"
   ]
  },
  {
   "cell_type": "markdown",
   "id": "97c280fc-7547-4d02-af0f-1233b7118254",
   "metadata": {},
   "source": [
    "**1.Creating Data Structures**"
   ]
  },
  {
   "cell_type": "markdown",
   "id": "5f653326-ae15-4c79-93f3-99cb4c9fdd96",
   "metadata": {},
   "source": [
    " **1.1:Series (1D)**"
   ]
  },
  {
   "cell_type": "code",
   "execution_count": 132,
   "id": "dc01760d-f178-4f04-a1b0-c8a06c2b30e1",
   "metadata": {},
   "outputs": [
    {
     "name": "stdout",
     "output_type": "stream",
     "text": [
      "1    1\n",
      "2    3\n",
      "3    4\n",
      "4    5\n",
      "5    6\n",
      "6    8\n",
      "dtype: int64 0     1.0\n",
      "1     2.0\n",
      "2     3.0\n",
      "3     4.0\n",
      "4     5.0\n",
      "5     NaN\n",
      "6    10.0\n",
      "dtype: float64 \n",
      " Name          Foysal\n",
      "Roll          210122\n",
      "Department       CSE\n",
      "dtype: object\n",
      "<class 'pandas.core.series.Series'> <class 'pandas.core.series.Series'> <class 'pandas.core.series.Series'> <class 'pandas.core.series.Series'>\n",
      "(dtype('int64'), dtype('float64'), dtype('O'), dtype('float64'))\n"
     ]
    }
   ],
   "source": [
    "import pandas as pd \n",
    "import numpy as np \n",
    "#from Tuple \n",
    "series=pd.Series((1,3,4,5,6,8),index=[1,2,3,4,5,6])\n",
    "#from List\n",
    "series2=pd.Series([1,2,3,4,5,np.nan,10])\n",
    "#from Dictionary \n",
    "series3=pd.Series({\"Name\":\"Foysal\",\"Roll\":210122,\"Department\":\"CSE\"})\n",
    "#from Custom index \n",
    "dataframe4=pd.DataFrame((2,3,np.nan),index=['x','y','z'])\n",
    "#Print Series\n",
    "print(series,series2,\"\\n\",series3,series4)\n",
    "#Print type of pandas data structure type\n",
    "print(type(series),type(series2),type(series3),type(series4))\n",
    "#Datatype Check\n",
    "print((series.dtypes,series2.dtypes,series3.dtypes,series4.dtypes))"
   ]
  },
  {
   "cell_type": "markdown",
   "id": "339e5f57-3de7-4616-88e4-177e0fa987a7",
   "metadata": {},
   "source": [
    "**1.2:DataFrame (2D)**"
   ]
  },
  {
   "cell_type": "code",
   "execution_count": 136,
   "id": "38c584fb-84b3-4815-bc07-743f2f6d9316",
   "metadata": {},
   "outputs": [
    {
     "name": "stdout",
     "output_type": "stream",
     "text": [
      "     0\n",
      "1  1.0\n",
      "2  3.0\n",
      "3  4.0\n",
      "4  5.0\n",
      "5  6.0\n",
      "6  NaN\n",
      "7  8.0       0\n",
      "1   1.0\n",
      "2   2.0\n",
      "3   3.0\n",
      "4   4.0\n",
      "5   5.0\n",
      "6   NaN\n",
      "7  10.0 \n",
      "      Name    Roll Department\n",
      "1  Foysal  210122        CSE\n",
      "2  Foysal  210122        CSE\n",
      "3  Foysal  210122        CSE      0\n",
      "x  2.0\n",
      "y  3.0\n",
      "z  NaN\n",
      "<class 'pandas.core.frame.DataFrame'> <class 'pandas.core.frame.DataFrame'> <class 'pandas.core.frame.DataFrame'> <class 'pandas.core.frame.DataFrame'>\n",
      "\n",
      "\n",
      "(0    float64\n",
      "dtype: object, 0    float64\n",
      "dtype: object, Name          object\n",
      "Roll           int64\n",
      "Department    object\n",
      "dtype: object, 0    float64\n",
      "dtype: object)\n"
     ]
    }
   ],
   "source": [
    "import pandas as pd \n",
    "import numpy as np \n",
    "#from Tuple \n",
    "dataframe=pd.DataFrame((1,3,4,5,6,np.nan,8),index=[1,2,3,4,5,6,7])\n",
    "#from List\n",
    "dataframe2=pd.DataFrame([1,2,3,4,5,np.nan,10],index=[1,2,3,4,5,6,7])\n",
    "#from Dictionary \n",
    "dataframe3=pd.DataFrame({\"Name\":\"Foysal\",\"Roll\":210122,\"Department\":\"CSE\"},index=[1,2,3])\n",
    "#from Custom index \n",
    "dataframe4=pd.DataFrame((2,3,np.nan),index=['x','y','z'])\n",
    "#Print dataframe  \n",
    "print(dataframe,dataframe2,\"\\n\",dataframe3,dataframe4)\n",
    "#Print Pandas Data Structure type\n",
    "print(type(dataframe),type(dataframe2),type(dataframe3),type(dataframe4))\n",
    "print(\"\\n\")\n",
    "#Datatype Check\n",
    "print((dataframe.dtypes,dataframe2.dtypes,dataframe3.dtypes,dataframe4.dtypes))"
   ]
  },
  {
   "cell_type": "markdown",
   "id": "c40f7502-f935-4376-bb98-1149826bb420",
   "metadata": {},
   "source": [
    "**2.Data Read and Write**"
   ]
  },
  {
   "cell_type": "markdown",
   "id": "f57d0113-1736-4f7d-ac2e-46562e8f06f0",
   "metadata": {},
   "source": [
    "**2.1:Data Read**"
   ]
  },
  {
   "cell_type": "code",
   "execution_count": null,
   "id": "d603b22a-90b5-4b49-80dd-a54d52462cdc",
   "metadata": {},
   "outputs": [],
   "source": [
    "import pandas as pd\n",
    "df=pd.read_csv(\"customers-100.csv\")\n",
    "df"
   ]
  },
  {
   "cell_type": "code",
   "execution_count": 103,
   "id": "519d2713-e029-4a36-ad20-52acfe496d0e",
   "metadata": {},
   "outputs": [
    {
     "data": {
      "text/html": [
       "<div>\n",
       "<style scoped>\n",
       "    .dataframe tbody tr th:only-of-type {\n",
       "        vertical-align: middle;\n",
       "    }\n",
       "\n",
       "    .dataframe tbody tr th {\n",
       "        vertical-align: top;\n",
       "    }\n",
       "\n",
       "    .dataframe thead th {\n",
       "        text-align: right;\n",
       "    }\n",
       "</style>\n",
       "<table border=\"1\" class=\"dataframe\">\n",
       "  <thead>\n",
       "    <tr style=\"text-align: right;\">\n",
       "      <th></th>\n",
       "      <th>Salary</th>\n",
       "    </tr>\n",
       "  </thead>\n",
       "  <tbody>\n",
       "    <tr>\n",
       "      <th>count</th>\n",
       "      <td>100.00</td>\n",
       "    </tr>\n",
       "    <tr>\n",
       "      <th>mean</th>\n",
       "      <td>77925.62</td>\n",
       "    </tr>\n",
       "    <tr>\n",
       "      <th>std</th>\n",
       "      <td>27337.33</td>\n",
       "    </tr>\n",
       "    <tr>\n",
       "      <th>min</th>\n",
       "      <td>30777.00</td>\n",
       "    </tr>\n",
       "    <tr>\n",
       "      <th>25%</th>\n",
       "      <td>55034.25</td>\n",
       "    </tr>\n",
       "    <tr>\n",
       "      <th>50%</th>\n",
       "      <td>76604.00</td>\n",
       "    </tr>\n",
       "    <tr>\n",
       "      <th>75%</th>\n",
       "      <td>105008.50</td>\n",
       "    </tr>\n",
       "    <tr>\n",
       "      <th>max</th>\n",
       "      <td>119911.00</td>\n",
       "    </tr>\n",
       "  </tbody>\n",
       "</table>\n",
       "</div>"
      ],
      "text/plain": [
       "          Salary\n",
       "count     100.00\n",
       "mean    77925.62\n",
       "std     27337.33\n",
       "min     30777.00\n",
       "25%     55034.25\n",
       "50%     76604.00\n",
       "75%    105008.50\n",
       "max    119911.00"
      ]
     },
     "execution_count": 103,
     "metadata": {},
     "output_type": "execute_result"
    }
   ],
   "source": [
    "df.describe().round(3)"
   ]
  },
  {
   "cell_type": "code",
   "execution_count": null,
   "id": "d4a97368-ee3f-4fd6-84a2-9356d5fda027",
   "metadata": {},
   "outputs": [
    {
     "name": "stdout",
     "output_type": "stream",
     "text": [
      "<class 'pandas.core.series.Series'>\n",
      "int64\n"
     ]
    }
   ],
   "source": []
  },
  {
   "cell_type": "code",
   "execution_count": null,
   "id": "93ef0ecc-423f-4caf-b41e-0696333df8f0",
   "metadata": {},
   "outputs": [],
   "source": []
  },
  {
   "cell_type": "code",
   "execution_count": null,
   "id": "088e4c2f-bd69-40e5-b603-35713e3e2368",
   "metadata": {},
   "outputs": [],
   "source": []
  },
  {
   "cell_type": "code",
   "execution_count": null,
   "id": "40fab855-5074-424c-b06e-26455e5bbaba",
   "metadata": {},
   "outputs": [],
   "source": []
  },
  {
   "cell_type": "code",
   "execution_count": null,
   "id": "6aa8230f-447e-4bcb-9a7c-2efc66b290db",
   "metadata": {},
   "outputs": [],
   "source": []
  },
  {
   "cell_type": "code",
   "execution_count": null,
   "id": "9354610a-1b7c-4b56-a434-40530adf5edc",
   "metadata": {},
   "outputs": [],
   "source": []
  },
  {
   "cell_type": "code",
   "execution_count": null,
   "id": "f5dc2db5-1af5-474d-88a2-8ce31b847d41",
   "metadata": {},
   "outputs": [],
   "source": []
  },
  {
   "cell_type": "code",
   "execution_count": null,
   "id": "ae9be2e2-edf2-4de5-8798-14bd863870d2",
   "metadata": {},
   "outputs": [],
   "source": []
  }
 ],
 "metadata": {
  "kernelspec": {
   "display_name": "Python [conda env:base] *",
   "language": "python",
   "name": "conda-base-py"
  },
  "language_info": {
   "codemirror_mode": {
    "name": "ipython",
    "version": 3
   },
   "file_extension": ".py",
   "mimetype": "text/x-python",
   "name": "python",
   "nbconvert_exporter": "python",
   "pygments_lexer": "ipython3",
   "version": "3.12.7"
  }
 },
 "nbformat": 4,
 "nbformat_minor": 5
}
