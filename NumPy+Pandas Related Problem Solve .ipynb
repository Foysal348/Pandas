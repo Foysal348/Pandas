{
 "cells": [
  {
   "cell_type": "code",
   "execution_count": 122,
   "id": "b4f1a8b0-187f-4d43-a98a-4f4a18a8db16",
   "metadata": {},
   "outputs": [
    {
     "name": "stdout",
     "output_type": "stream",
     "text": [
      "Sample Data Created and Saved as employees.csv\n"
     ]
    }
   ],
   "source": [
    "import numpy as np\n",
    "import pandas as pd\n",
    "\n",
    "np.random.seed(42)\n",
    "\n",
    "ids = np.arange(1, 11)\n",
    "ages = np.random.randint(18, 60, 10)\n",
    "salaries = np.random.randint(30000, 90000, 10)\n",
    "departments = np.array([\"HR\", \"IT\", \"Finance\", \"IT\", \"HR\", \"Sales\", \"Finance\", \"IT\", \"Sales\", \"HR\"])\n",
    "\n",
    "DF = pd.DataFrame({\n",
    "\"id\": ids,\n",
    "\"age\": ages,\n",
    "\"salary\": salaries,\n",
    "\"dept\": departments\n",
    "})\n",
    "\n",
    "DF.to_csv(\"employees.csv\", index=False)\n",
    "print(\"Sample Data Created and Saved as employees.csv\")\n"
   ]
  },
  {
   "cell_type": "markdown",
   "id": "b5b3aba5-4ede-471e-a782-3e7872c40944",
   "metadata": {},
   "source": [
    "***Q1. Create NumPy arrays from the ages and salaries data generated above. Print both arrays and display their dtype, ndim, shape, and size.***"
   ]
  },
  {
   "cell_type": "code",
   "execution_count": 244,
   "id": "d96799b3-ee7c-4045-a3e6-63c5be987269",
   "metadata": {},
   "outputs": [
    {
     "name": "stdout",
     "output_type": "stream",
     "text": [
      "[56 46 32 25 38 56 36 40 28 28] [77191 74131 46023 71090 31685 30769 89735 86101 32433 35311]\n",
      "int64 int64\n",
      "1 1\n",
      "(10,) (10,)\n",
      "10 10\n"
     ]
    }
   ],
   "source": [
    "import numpy as np\n",
    "import pandas as pd\n",
    "df=pd.read_csv(\"employees.csv\")\n",
    "ages=df[\"age\"]\n",
    "salaries=df[\"salary\"]\n",
    "ages_as_array=np.array(ages)\n",
    "salaries_as_array=np.array(salaries)\n",
    "#Print both Ages and Salaries arrays\n",
    "print(ages_as_array,salaries_as_array)\n",
    "\n",
    "#Display datatype of age and salary\n",
    "print(ages_as_array.dtype,salaries_as_array.dtype)\n",
    "\n",
    "#Display Dimension of age and salary\n",
    "print(ages_as_array.ndim,salaries_as_array.ndim)\n",
    "\n",
    "#Display Shape of age and salary \n",
    "print(ages_as_array.shape,salaries_as_array.shape)\n",
    "\n",
    "#Display size of age and salary\n",
    "print(ages_as_array.size,salaries_as_array.size)"
   ]
  },
  {
   "cell_type": "markdown",
   "id": "a55c8505-7605-41d9-8b98-bf8c67384ce7",
   "metadata": {},
   "source": [
    "***Q2. Using the salaries array, find and print the highest and lowest salary values. Also, calculate and print the average salary and age using NumPy functions.***"
   ]
  },
  {
   "cell_type": "code",
   "execution_count": 246,
   "id": "f4bc5ce2-434d-4377-8748-a7caa69819ec",
   "metadata": {},
   "outputs": [
    {
     "name": "stdout",
     "output_type": "stream",
     "text": [
      "89735 30769\n",
      "57446.9 38.5\n"
     ]
    }
   ],
   "source": [
    "import numpy as np\n",
    "import pandas as pd\n",
    "df=pd.read_csv(\"employees.csv\")\n",
    "salaries=df[\"salary\"]\n",
    "ages=df[\"age\"]\n",
    "array_of_salary=np.array(salaries)\n",
    "array_of_age=np.array(ages)\n",
    "\n",
    "#Display Highest and Lowest Salary\n",
    "highest_salary=np.max(array_of_salary)\n",
    "lowest_salary=np.min(array_of_salary)\n",
    "print(highest_salary,lowest_salary)\n",
    "\n",
    "#Display Average Salary and Age \n",
    "average_of_salary=np.mean(array_of_salary)\n",
    "average_of_age=np.mean(array_of_age)\n",
    "print(average_of_salary,average_of_age)"
   ]
  },
  {
   "cell_type": "markdown",
   "id": "c730334e-4288-41c1-96fc-b106b9172465",
   "metadata": {},
   "source": [
    "***Q3. From the ages array, filter and print all ages greater than 30 using a boolean condition. Then count and print how many employees are older than 30.***"
   ]
  },
  {
   "cell_type": "code",
   "execution_count": 248,
   "id": "9b233213-0698-45a2-a6f9-8d3259fdfac3",
   "metadata": {},
   "outputs": [
    {
     "name": "stdout",
     "output_type": "stream",
     "text": [
      "[56 46 32 38 56 36 40]\n",
      "7\n"
     ]
    }
   ],
   "source": [
    "import numpy as np\n",
    "import pandas as pd\n",
    "df=pd.read_csv(\"employees.csv\")\n",
    "ages=df[\"age\"]\n",
    "array_of_age=np.array(ages)\n",
    "\n",
    "#Filter and print\n",
    "greater_than_30=array_of_age>30\n",
    "filtered_ages=array_of_age[greater_than_30]\n",
    "print(filtered_ages)\n",
    "\n",
    "# Count how many employees are older than 30.\n",
    "Count=np.sum(greater_than_30)\n",
    "print(Count)"
   ]
  },
  {
   "cell_type": "markdown",
   "id": "2810a16d-792f-4f3a-8f08-b758b6f309aa",
   "metadata": {},
   "source": [
    "***Q4. Create a new NumPy array that increases every employee’s age by 5 years (without modifying the original array). Print the new updated ages array.***"
   ]
  },
  {
   "cell_type": "code",
   "execution_count": 250,
   "id": "8e01bb91-f8d5-42d2-8430-39adab8ee135",
   "metadata": {},
   "outputs": [
    {
     "name": "stdout",
     "output_type": "stream",
     "text": [
      "[61 51 37 30 43 61 41 45 33 33]\n"
     ]
    }
   ],
   "source": [
    "import numpy as np\n",
    "import pandas as pd\n",
    "df=pd.read_csv(\"employees.csv\")\n",
    "ages=df[\"age\"]\n",
    "array_of_age=np.array(ages)\n",
    "Increases_age=array_of_age+5\n",
    "\n",
    "#Print the new updated ages\n",
    "print(Increases_age)"
   ]
  },
  {
   "cell_type": "markdown",
   "id": "3edc0e5c-16a5-4dbc-8813-d9a7ef6af655",
   "metadata": {},
   "source": [
    "***Q5. Using NumPy, calculate the total salary expense (sum of all salaries) and the difference between the maximum and minimum salary. Print both results.***"
   ]
  },
  {
   "cell_type": "code",
   "execution_count": 252,
   "id": "19c72099-8f48-4c15-a4d8-5ef49fe89457",
   "metadata": {},
   "outputs": [
    {
     "name": "stdout",
     "output_type": "stream",
     "text": [
      "574469\n",
      "58966\n"
     ]
    }
   ],
   "source": [
    "import numpy as np\n",
    "import pandas as pd\n",
    "df=pd.read_csv(\"employees.csv\")\n",
    "salaries=df[\"salary\"]\n",
    "array_of_salary=np.array(salaries)\n",
    "\n",
    "#Calculate Total Salary\n",
    "total_salary=np.sum(array_of_salary)\n",
    "print(total_salary)\n",
    "\n",
    "#Calculate the difference between the maximum and minimum salary\n",
    "maximum_salary=np.max(array_of_salary)\n",
    "minimum_salary=np.min(array_of_salary)\n",
    "difference=maximum_salary-minimum_salary\n",
    "print(difference)"
   ]
  },
  {
   "cell_type": "markdown",
   "id": "ffc43c0b-c027-4001-88bb-9394891ce583",
   "metadata": {},
   "source": [
    "**Q6. Load the employees.csv file into a Pandas DataFrame. Display the first 5 rows, and check basic info using info() and summary statistics using describe().**"
   ]
  },
  {
   "cell_type": "code",
   "execution_count": 164,
   "id": "5d5231b9-6778-456f-a690-b68afd9b084d",
   "metadata": {},
   "outputs": [
    {
     "name": "stdout",
     "output_type": "stream",
     "text": [
      "   id  age  salary     dept\n",
      "0   1   56   77191       HR\n",
      "1   2   46   74131       IT\n",
      "2   3   32   46023  Finance\n",
      "3   4   25   71090       IT\n",
      "4   5   38   31685       HR\n",
      "\n",
      "\n",
      "<class 'pandas.core.frame.DataFrame'>\n",
      "RangeIndex: 10 entries, 0 to 9\n",
      "Data columns (total 4 columns):\n",
      " #   Column  Non-Null Count  Dtype \n",
      "---  ------  --------------  ----- \n",
      " 0   id      10 non-null     int64 \n",
      " 1   age     10 non-null     int64 \n",
      " 2   salary  10 non-null     int64 \n",
      " 3   dept    10 non-null     object\n",
      "dtypes: int64(3), object(1)\n",
      "memory usage: 452.0+ bytes\n",
      "None\n",
      "\n",
      "\n",
      "             id       age        salary\n",
      "count  10.00000  10.00000     10.000000\n",
      "mean    5.50000  38.50000  57446.900000\n",
      "std     3.02765  11.16791  24357.262884\n",
      "min     1.00000  25.00000  30769.000000\n",
      "25%     3.25000  29.00000  33152.500000\n",
      "50%     5.50000  37.00000  58556.500000\n",
      "75%     7.75000  44.50000  76426.000000\n",
      "max    10.00000  56.00000  89735.000000\n"
     ]
    }
   ],
   "source": [
    "import numpy as np\n",
    "import pandas as pd\n",
    "df=pd.read_csv(\"employees.csv\")\n",
    "#Display first 5 rows\n",
    "print(df.head(5))\n",
    "print(\"\\n\")\n",
    "\n",
    "#check basic information\n",
    "print(df.info())\n",
    "print(\"\\n\")\n",
    "\n",
    "#Statical Summary\n",
    "print(df.describe())"
   ]
  },
  {
   "cell_type": "markdown",
   "id": "cc2e79f7-9525-4629-9a15-281baa0a1835",
   "metadata": {},
   "source": [
    "**Q7. Display only the id, age, and salary columns. Then show the last 3 rows using tail().**"
   ]
  },
  {
   "cell_type": "code",
   "execution_count": 171,
   "id": "753e6a0a-7836-4ac5-9b22-d96159e0196f",
   "metadata": {},
   "outputs": [
    {
     "data": {
      "text/html": [
       "<div>\n",
       "<style scoped>\n",
       "    .dataframe tbody tr th:only-of-type {\n",
       "        vertical-align: middle;\n",
       "    }\n",
       "\n",
       "    .dataframe tbody tr th {\n",
       "        vertical-align: top;\n",
       "    }\n",
       "\n",
       "    .dataframe thead th {\n",
       "        text-align: right;\n",
       "    }\n",
       "</style>\n",
       "<table border=\"1\" class=\"dataframe\">\n",
       "  <thead>\n",
       "    <tr style=\"text-align: right;\">\n",
       "      <th></th>\n",
       "      <th>id</th>\n",
       "      <th>age</th>\n",
       "      <th>salary</th>\n",
       "    </tr>\n",
       "  </thead>\n",
       "  <tbody>\n",
       "    <tr>\n",
       "      <th>7</th>\n",
       "      <td>8</td>\n",
       "      <td>40</td>\n",
       "      <td>86101</td>\n",
       "    </tr>\n",
       "    <tr>\n",
       "      <th>8</th>\n",
       "      <td>9</td>\n",
       "      <td>28</td>\n",
       "      <td>32433</td>\n",
       "    </tr>\n",
       "    <tr>\n",
       "      <th>9</th>\n",
       "      <td>10</td>\n",
       "      <td>28</td>\n",
       "      <td>35311</td>\n",
       "    </tr>\n",
       "  </tbody>\n",
       "</table>\n",
       "</div>"
      ],
      "text/plain": [
       "   id  age  salary\n",
       "7   8   40   86101\n",
       "8   9   28   32433\n",
       "9  10   28   35311"
      ]
     },
     "execution_count": 171,
     "metadata": {},
     "output_type": "execute_result"
    }
   ],
   "source": [
    "import numpy as np\n",
    "import pandas as pd\n",
    "df=pd.read_csv(\"employees.csv\")\n",
    "df1=df[[\"id\",\"age\",\"salary\"]]\n",
    "df1.tail(3)"
   ]
  },
  {
   "cell_type": "markdown",
   "id": "80acaf0c-a81e-4e2f-98ae-236484d9fa55",
   "metadata": {},
   "source": [
    "**Q8. Filter the DataFrame to show only employees who work in the IT department. Print the result and show the total number of IT employees.**"
   ]
  },
  {
   "cell_type": "code",
   "execution_count": 240,
   "id": "e7e6a647-ae73-4653-85ce-ba8f15a9ec02",
   "metadata": {},
   "outputs": [
    {
     "name": "stdout",
     "output_type": "stream",
     "text": [
      "   id  age  salary dept\n",
      "1   2   46   74131   IT\n",
      "3   4   25   71090   IT\n",
      "7   8   40   86101   IT\n",
      "3\n"
     ]
    }
   ],
   "source": [
    "import numpy as np\n",
    "import pandas as pd\n",
    "df=pd.read_csv(\"employees.csv\")\n",
    "employees=df[df[\"dept\"]==\"IT\"]\n",
    "print(employees)\n",
    "Count=np.sum(df[\"dept\"]==\"IT\")\n",
    "print(Count)"
   ]
  },
  {
   "cell_type": "markdown",
   "id": "4e128adf-7a2b-4ec6-a64a-404bc5dc7a91",
   "metadata": {},
   "source": [
    "**Q9. Sort the DataFrame by salary in descending order and display the top 3 highest-paid employees along with their department and age.**"
   ]
  },
  {
   "cell_type": "code",
   "execution_count": 242,
   "id": "660a8730-6a37-4966-b7ef-8e4485f10860",
   "metadata": {},
   "outputs": [
    {
     "name": "stdout",
     "output_type": "stream",
     "text": [
      "   id  salary     dept  age\n",
      "6   7   89735  Finance   36\n",
      "7   8   86101       IT   40\n",
      "0   1   77191       HR   56\n"
     ]
    }
   ],
   "source": [
    "import numpy as np\n",
    "import pandas as pd\n",
    "df=pd.read_csv(\"employees.csv\")\n",
    "sorted_df=df.sort_values(\"salary\",ascending=False)\n",
    "print(sorted_df[[\"id\",\"salary\",\"dept\",\"age\"]].head(3))"
   ]
  },
  {
   "cell_type": "markdown",
   "id": "4e2cbc54-7b48-4607-b318-0cf40e6d2227",
   "metadata": {},
   "source": [
    "**Q10. Replace all salary values greater than 80000 with 80000 using loc. Then calculate and print the new average salary of all employees after replacement.**"
   ]
  },
  {
   "cell_type": "code",
   "execution_count": 238,
   "id": "1e23f752-442a-4fa6-87b5-013533b96cfd",
   "metadata": {},
   "outputs": [
    {
     "name": "stdout",
     "output_type": "stream",
     "text": [
      "55863.3\n"
     ]
    }
   ],
   "source": [
    "import numpy as np\n",
    "import pandas as pd\n",
    "df=pd.read_csv(\"employees.csv\")\n",
    "df.loc[df[\"salary\"]>80000,\"salary\"]=80000\n",
    "Salary=df[\"salary\"]\n",
    "print(np.mean(Salary))"
   ]
  },
  {
   "cell_type": "code",
   "execution_count": null,
   "id": "ea512ef4-55a6-44fd-a251-5421f0136d16",
   "metadata": {},
   "outputs": [],
   "source": []
  }
 ],
 "metadata": {
  "kernelspec": {
   "display_name": "Python [conda env:base] *",
   "language": "python",
   "name": "conda-base-py"
  },
  "language_info": {
   "codemirror_mode": {
    "name": "ipython",
    "version": 3
   },
   "file_extension": ".py",
   "mimetype": "text/x-python",
   "name": "python",
   "nbconvert_exporter": "python",
   "pygments_lexer": "ipython3",
   "version": "3.12.7"
  }
 },
 "nbformat": 4,
 "nbformat_minor": 5
}
